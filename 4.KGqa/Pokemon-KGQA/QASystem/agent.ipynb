{
 "cells": [
  {
   "cell_type": "code",
   "execution_count": 1,
   "metadata": {},
   "outputs": [
    {
     "name": "stderr",
     "output_type": "stream",
     "text": [
      "f:\\Anaconda\\envs\\pokemon\\Lib\\site-packages\\tqdm\\auto.py:21: TqdmWarning: IProgress not found. Please update jupyter and ipywidgets. See https://ipywidgets.readthedocs.io/en/stable/user_install.html\n",
      "  from .autonotebook import tqdm as notebook_tqdm\n"
     ]
    }
   ],
   "source": [
    "import getpass\n",
    "import os\n",
    "import sys\n",
    "import asyncio\n",
    "from langchain_openai import ChatOpenAI\n",
    "from langchain_ollama import ChatOllama\n",
    "from langgraph.graph import StateGraph, MessagesState, START, END\n",
    "from langchain_core.messages import AnyMessage, SystemMessage, HumanMessage, ToolMessage, AIMessage\n",
    "from typing import Literal\n",
    "from typing_extensions import TypedDict\n",
    "from pydantic import BaseModel, Field\n",
    "from langchain_core.prompts import ChatPromptTemplate\n",
    "from langchain_core.output_parsers import JsonOutputParser\n",
    "from langchain_core.runnables import RunnablePassthrough, RunnableLambda\n",
    "from py2neo import Graph\n",
    "from langchain_core.tools import tool\n",
    "from langgraph.prebuilt import create_react_agent\n",
    "from langchain_core.prompts import PromptTemplate\n",
    "from langgraph.checkpoint.memory import MemorySaver\n",
    "\n",
    "from pathlib import Path\n",
    "project_root = Path(r\"F:\\bigmodel\\meet-Pok-mon\\4.KGqa\\Pokemon-KGQA\").resolve()\n",
    "sys.path.insert(0, str(project_root))\n",
    "from NER.ner_model import *\n",
    "from RAG.langchaingraph.query import GraphRAG\n",
    "from websearch.websearcher import WebSearcher"
   ]
  },
  {
   "cell_type": "code",
   "execution_count": 2,
   "metadata": {},
   "outputs": [],
   "source": [
    "base_dir = r\"F:\\bigmodel\\meet-Pok-mon\\4.KGqa\\Pokemon-KGQA\"\n",
    "model_base_path = \"F:/bigmodel/models/\"  # 模型和权重的基础路径\n",
    "model_name = os.path.join(model_base_path, \"chinese-roberta-wwm-ext\")\n",
    "pt_path = os.path.join(model_name, \"best_roberta.pt\")"
   ]
  },
  {
   "cell_type": "code",
   "execution_count": 3,
   "metadata": {},
   "outputs": [],
   "source": [
    "class EntityRecognition:\n",
    "    def __init__(self):\n",
    "        # 初始化规则和 TF-IDF 对齐\n",
    "        self.rule = rule_find()\n",
    "        self.tfidf_r = tfidf_alignment()\n",
    "\n",
    "        # 加载 tag2idx\n",
    "        if os.path.exists('tag2idx.npy'):\n",
    "            with open('tag2idx.npy', 'rb') as f:\n",
    "                self.tag2idx = pickle.load(f)\n",
    "                self.idx2tag = list(self.tag2idx)\n",
    "        else:\n",
    "            raise FileNotFoundError(\"tag2idx文件不存在！\")\n",
    "\n",
    "        # 初始化设备\n",
    "        self.device = torch.device('cuda:0') if torch.cuda.is_available() else torch.device('cpu')\n",
    "\n",
    "        # 加载 tokenizer\n",
    "        self.tokenizer = BertTokenizer.from_pretrained(model_name, cache_dir=model_base_path)\n",
    "\n",
    "        # 初始化模型\n",
    "        hidden_size = 128\n",
    "        bi = True\n",
    "        self.model = Bert_Model(model_name, hidden_size, len(self.tag2idx), bi)\n",
    "\n",
    "        # 加载模型权重\n",
    "        if os.path.exists(pt_path):\n",
    "            print(\"加载已有模型\")\n",
    "            self.model.load_state_dict(torch.load(pt_path, map_location=self.device))\n",
    "        else:\n",
    "            raise FileNotFoundError(\"未找到模型权重文件!!\")\n",
    "\n",
    "        # 将模型移动到设备\n",
    "        self.model = self.model.to(self.device)\n",
    "\n",
    "        print('模型初始化完成 ......')\n",
    "\n",
    "    def ner(self, question):\n",
    "        # 调用 NER 方法\n",
    "        return get_ner_result(self.model, self.tokenizer, question, self.rule, self.tfidf_r, self.device, self.idx2tag)"
   ]
  },
  {
   "cell_type": "code",
   "execution_count": 4,
   "metadata": {},
   "outputs": [
    {
     "name": "stdout",
     "output_type": "stream",
     "text": [
      "加载已有模型\n",
      "模型初始化完成 ......\n"
     ]
    }
   ],
   "source": [
    "EnR = EntityRecognition()"
   ]
  },
  {
   "cell_type": "code",
   "execution_count": 5,
   "metadata": {},
   "outputs": [],
   "source": [
    "# llm = ChatOllama(\n",
    "#     base_url = \"127.0.0.1:11434\",  # 注意：这里需要替换成自己本地启动的endpoint\n",
    "#     model=\"qwen2.5:7b\",\n",
    "# )\n",
    "llm = ChatOpenAI(\n",
    "    model=\"Doubao-pro-256k-1.5\",  # 模型名称（需与后端匹配）\n",
    "    base_url=\"http://139.224.116.116:3000/v1\",  # 本地或远程 API 地址\n",
    "    api_key=\"sk-36oMlDApF5Nlg0v23014A4B69e864000944151Cd75D82076\"  # 如果无需鉴权，可留空\n",
    ")"
   ]
  },
  {
   "cell_type": "code",
   "execution_count": 6,
   "metadata": {},
   "outputs": [],
   "source": [
    "g = Graph(\"bolt://localhost:7687\", auth=(\"neo4j\", \"woshishamo630\"))"
   ]
  },
  {
   "cell_type": "code",
   "execution_count": 7,
   "metadata": {},
   "outputs": [],
   "source": [
    "class AgentState(MessagesState):\n",
    "    next: str"
   ]
  },
  {
   "cell_type": "code",
   "execution_count": 8,
   "metadata": {},
   "outputs": [],
   "source": [
    "def chat(state: AgentState):\n",
    "    messages = state[\"messages\"]\n",
    "    model_response = llm.invoke(messages)\n",
    "    # final_response = [HumanMessage(content=model_response.content, name=\"chatbot\")]\n",
    "    return {\"messages\": model_response}"
   ]
  },
  {
   "cell_type": "code",
   "execution_count": 9,
   "metadata": {},
   "outputs": [],
   "source": [
    "class PokemonQuery(BaseModel):\n",
    "    pokemon: str\n",
    "\n",
    "class PersonQuery(BaseModel):\n",
    "    person: str\n",
    "\n",
    "class TownQuery(BaseModel):\n",
    "    town: str\n",
    "\n",
    "class RegionQuery(BaseModel):\n",
    "    region: str\n",
    "\n",
    "class IdentityQuery(BaseModel):\n",
    "    identity: str\n",
    "    \n",
    "class Entity(BaseModel):\n",
    "    question: str\n",
    "\n",
    "\n",
    "# 宝可梦相关查询\n",
    "@tool(args_schema=PokemonQuery)\n",
    "def get_pokemon_chinese_name(pokemon: str):\n",
    "    \"\"\"查询宝可梦的中文名\"\"\"\n",
    "    sql = f\"MATCH (p:Pokémon) WHERE p.name = '{pokemon}' RETURN p.name AS chinese_name;\"\n",
    "    return execute_query(sql, \"chinese_name\", f\"未找到宝可梦: {pokemon}\")\n",
    "\n",
    "@tool(args_schema=PokemonQuery)\n",
    "def get_pokemon_english_name(pokemon: str):\n",
    "    \"\"\"查询宝可梦的英文名\"\"\"\n",
    "    sql = f\"MATCH (p:Pokémon) WHERE p.name = '{pokemon}' RETURN p.english_name AS english_name;\"\n",
    "    return execute_query(sql, \"english_name\", f\"未找到宝可梦的英文名: {pokemon}\")\n",
    "\n",
    "@tool(args_schema=PokemonQuery)\n",
    "def get_pokemon_ability(pokemon: str):\n",
    "    \"\"\"查询宝可梦的特性\"\"\"\n",
    "    sql = f\"MATCH (p:Pokémon) WHERE p.name = '{pokemon}' RETURN p.ability AS ability;\"\n",
    "    return execute_query(sql, \"ability\", f\"未找到宝可梦特性: {pokemon}\")\n",
    "\n",
    "@tool(args_schema=PokemonQuery)\n",
    "def get_pokemon_hidden_ability(pokemon: str):\n",
    "    \"\"\"查询宝可梦的隐藏特性\"\"\"\n",
    "    sql = f\"MATCH (p:Pokémon) WHERE p.name = '{pokemon}' RETURN p.hidden_ability AS hidden_ability;\"\n",
    "    return execute_query(sql, \"hidden_ability\", f\"未找到宝可梦隐藏特性: {pokemon}\")\n",
    "\n",
    "@tool(args_schema=PokemonQuery)\n",
    "def get_pokemon_height(pokemon: str):\n",
    "    \"\"\"查询宝可梦的身高\"\"\"\n",
    "    sql = f\"MATCH (p:Pokémon) WHERE p.name = '{pokemon}' RETURN p.height AS height;\"\n",
    "    return execute_query(sql, \"height\", f\"未找到宝可梦身高: {pokemon}\")\n",
    "\n",
    "@tool(args_schema=PokemonQuery)\n",
    "def get_pokemon_weight(pokemon: str):\n",
    "    \"\"\"查询宝可梦的体重\"\"\"\n",
    "    sql = f\"MATCH (p:Pokémon) WHERE p.name = '{pokemon}' RETURN p.weight AS weight;\"\n",
    "    return execute_query(sql, \"weight\", f\"未找到宝可梦体重: {pokemon}\")\n",
    "\n",
    "@tool(args_schema=PokemonQuery)\n",
    "def get_pokemon_evolution_level(pokemon: str):\n",
    "    \"\"\"查询宝可梦的进化等级\"\"\"\n",
    "    sql = f\"MATCH (p:Pokémon) WHERE p.name = '{pokemon}' RETURN p.evolution_level AS evolution_level;\"\n",
    "    return execute_query(sql, \"evolution_level\", f\"未找到宝可梦进化等级: {pokemon}\")\n",
    "\n",
    "@tool(args_schema=PokemonQuery)\n",
    "def get_pokemon_attributes(pokemon: str):\n",
    "    \"\"\"查询宝可梦的属性抗性\"\"\"\n",
    "    sql = f\"MATCH (p:Pokémon) WHERE p.name = '{pokemon}' RETURN p.attr_ability AS attr_ability;\"\n",
    "    return execute_query(sql, \"attr_ability\", f\"未找到宝可梦属性抗性: {pokemon}\")\n",
    "\n",
    "@tool(args_schema=PokemonQuery)\n",
    "def get_pokemon_evolution(pokemon: str):\n",
    "    \"\"\"查询宝可梦的进化形态\"\"\"\n",
    "    sql = f\"MATCH (p1:Pokémon)-[:evolves_into]->(p2:Pokémon) WHERE p1.name = '{pokemon}' RETURN p2.name AS evolution_name;\"\n",
    "    return execute_query(sql, \"evolution_name\", f\"未找到宝可梦进化形态: {pokemon}\")\n",
    "\n",
    "@tool(args_schema=PokemonQuery)\n",
    "def get_pokemon_types(pokemon: str):\n",
    "    \"\"\"查询宝可梦的属性\"\"\"\n",
    "    sql = f\"MATCH (p:Pokémon)-[:has_type]->(i:identity) WHERE p.name = '{pokemon}' RETURN COLLECT(i.name) AS types;\"\n",
    "    return execute_query(sql, \"types\", f\"未找到宝可梦属性: {pokemon}\")\n",
    "\n",
    "# 人物相关查询\n",
    "@tool(args_schema=PersonQuery)\n",
    "def get_person_gender(person: str):\n",
    "    \"\"\"查询人物性别\"\"\"\n",
    "    sql = f\"MATCH (per:Person) WHERE per.name = '{person}' RETURN per.gender AS gender;\"\n",
    "    return execute_query(sql, \"gender\", f\"未找到人物性别: {person}\")\n",
    "\n",
    "@tool(args_schema=PersonQuery)\n",
    "def get_person_english_name(person: str):\n",
    "    \"\"\"查询人物英文名\"\"\"\n",
    "    sql = f\"MATCH (per:Person) WHERE per.name = '{person}' RETURN per.english_name AS english_name;\"\n",
    "    return execute_query(sql, \"english_name\", f\"未找到人物英文名: {person}\")\n",
    "\n",
    "@tool(args_schema=PersonQuery)\n",
    "def get_person_japanese_name(person: str):\n",
    "    \"\"\"查询人物日本名\"\"\"\n",
    "    sql = f\"MATCH (per:Person) WHERE per.name = '{person}' RETURN per.japanese_name AS japanese_name;\"\n",
    "    return execute_query(sql, \"japanese_name\", f\"未找到人物日本名: {person}\")\n",
    "\n",
    "@tool(args_schema=PersonQuery)\n",
    "def get_person_challengers(person: str):\n",
    "    \"\"\"查询人物的挑战者\"\"\"\n",
    "    sql = f\"MATCH (per1:Person)-[:challenge]->(per2:Person) WHERE per1.name = '{person}' RETURN COLLECT(per2.name) AS challengers;\"\n",
    "    return execute_query(sql, \"challengers\", f\"未找到人物挑战者: {person}\")\n",
    "\n",
    "@tool(args_schema=PersonQuery)\n",
    "def get_person_partners(person: str):\n",
    "    \"\"\"查询人物的伙伴\"\"\"\n",
    "    sql = f\"MATCH (per1:Person)-[:partner]->(per2:Person) WHERE per1.name = '{person}' RETURN COLLECT(per2.name) AS partners;\"\n",
    "    return execute_query(sql, \"partners\", f\"未找到人物伙伴: {person}\")\n",
    "\n",
    "@tool(args_schema=PersonQuery)\n",
    "def get_person_enemies(person: str):\n",
    "    \"\"\"查询人物的敌对者\"\"\"\n",
    "    sql = f\"MATCH (per1:Person)-[:hostility]->(per2:Person) WHERE per1.name = '{person}' RETURN COLLECT(per2.name) AS enemies;\"\n",
    "    return execute_query(sql, \"enemies\", f\"未找到人物敌对者: {person}\")\n",
    "\n",
    "@tool(args_schema=PersonQuery)\n",
    "def get_person_relatives(person: str):\n",
    "    \"\"\"查询人物的亲戚\"\"\"\n",
    "    sql = f\"MATCH (per1:Person)-[:relative]->(per2:Person) WHERE per1.name = '{person}' RETURN COLLECT(per2.name) AS relatives;\"\n",
    "    return execute_query(sql, \"relatives\", f\"未找到人物亲戚: {person}\")\n",
    "\n",
    "# 地区、城镇相关查询\n",
    "@tool(args_schema=TownQuery)\n",
    "def get_town_region(town: str):\n",
    "    \"\"\"查询城镇所在的地区\"\"\"\n",
    "    sql = f\"MATCH (t:Town)-[:located_in]->(r:Region) WHERE t.name = '{town}' RETURN r.name AS region;\"\n",
    "    return execute_query(sql, \"region\", f\"未找到城镇所在地区: {town}\")\n",
    "\n",
    "@tool(args_schema=RegionQuery)\n",
    "def get_region_towns(region: str):\n",
    "    \"\"\"查询地区的城镇\"\"\"\n",
    "    sql = f\"MATCH (r:Region)<-[:located_in]-(t:Town) WHERE r.name = '{region}' RETURN COLLECT(t.name) AS towns;\"\n",
    "    return execute_query(sql, \"towns\", f\"未找到地区城镇: {region}\")\n",
    "\n",
    "@tool(args_schema=PersonQuery)\n",
    "def get_person_hometown(person: str):\n",
    "    \"\"\"查询人物来自哪个地区\"\"\"\n",
    "    sql = f\"MATCH (per:Person)-[:come_from]->(r:Region) WHERE per.name = '{person}' RETURN r.name AS region;\"\n",
    "    return execute_query(sql, \"region\", f\"未找到人物家乡: {person}\")\n",
    "\n",
    "@tool(args_schema=RegionQuery)\n",
    "def get_region_people(region: str):\n",
    "    \"\"\"查询地区有哪些人物\"\"\"\n",
    "    sql = f\"MATCH (per:Person)-[:come_from]->(r:Region) WHERE r.name = '{region}' RETURN COLLECT(per.name) AS people;\"\n",
    "    return execute_query(sql, \"people\", f\"未找到地区人物: {region}\")\n",
    "\n",
    "# 人物与宝可梦关系查询\n",
    "@tool(args_schema=PersonQuery)\n",
    "def get_person_pokemons(person: str):\n",
    "    \"\"\"查询人物拥有哪些宝可梦\"\"\"\n",
    "    sql = f\"MATCH (per:Person)-[:has_pokemon]->(p:Pokémon) WHERE per.name = '{person}' RETURN COLLECT(p.name) AS pokemons;\"\n",
    "    return execute_query(sql, \"pokemons\", f\"未找到人物拥有的宝可梦: {person}\")\n",
    "\n",
    "@tool(args_schema=PokemonQuery)\n",
    "def get_pokemon_owners(pokemon: str):\n",
    "    \"\"\"查询拥有某个宝可梦的人物\"\"\"\n",
    "    sql = f\"MATCH (per:Person)-[:has_pokemon]->(p:Pokémon) WHERE p.name = '{pokemon}' RETURN COLLECT(per.name) AS owners;\"\n",
    "    return execute_query(sql, \"owners\", f\"未找到宝可梦的拥有者: {pokemon}\")\n",
    "\n",
    "# 城镇与宝可梦关系查询\n",
    "@tool(args_schema=TownQuery)\n",
    "def get_town_pokemons(town: str):\n",
    "    \"\"\"查询城镇有哪些宝可梦\"\"\"\n",
    "    sql = f\"MATCH (t:Town)-[:location_pokemon]->(p:Pokémon) WHERE t.name = '{town}' RETURN COLLECT(p.name) AS pokemons;\"\n",
    "    return execute_query(sql, \"pokemons\", f\"未找到城镇的宝可梦: {town}\")\n",
    "\n",
    "@tool(args_schema=PokemonQuery)\n",
    "def get_pokemon_towns(pokemon: str):\n",
    "    \"\"\"查询哪些城镇有某个宝可梦\"\"\"\n",
    "    sql = f\"MATCH (t:Town)-[:location_pokemon]->(p:Pokémon) WHERE p.name = '{pokemon}' RETURN COLLECT(t.name) AS towns;\"\n",
    "    return execute_query(sql, \"towns\", f\"未找到宝可梦出现的城镇: {pokemon}\")\n",
    "\n",
    "# 城镇与人物关系查询\n",
    "@tool(args_schema=TownQuery)\n",
    "def get_town_people(town: str):\n",
    "    \"\"\"查询城镇有哪些人物\"\"\"\n",
    "    sql = f\"MATCH (t:Town)-[:has_celebrity]->(per:Person) WHERE t.name = '{town}' RETURN COLLECT(per.name) AS people;\"\n",
    "    return execute_query(sql, \"people\", f\"未找到城镇人物: {town}\")\n",
    "\n",
    "@tool(args_schema=PersonQuery)\n",
    "def get_person_town(person: str):\n",
    "    \"\"\"查询人物来自哪个城镇\"\"\"\n",
    "    sql = f\"MATCH (per:Person)-[:come_from]->(t:Town) WHERE per.name = '{person}' RETURN t.name AS town;\"\n",
    "    return execute_query(sql, \"town\", f\"未找到人物所在城镇: {person}\")\n",
    "\n",
    "# 统计查询\n",
    "@tool(args_schema=RegionQuery)\n",
    "def count_region_towns(region: str):\n",
    "    \"\"\"查询某个地区有多少城镇\"\"\"\n",
    "    sql = f\"MATCH (r:Region)<-[:located_in]-(t:Town) WHERE r.name = '{region}' RETURN COUNT(t) AS count;\"\n",
    "    return execute_query(sql, \"count\", f\"未找到地区城镇数量: {region}\")\n",
    "\n",
    "@tool(args_schema=TownQuery)\n",
    "def count_town_pokemons(town: str):\n",
    "    \"\"\"查询某个城镇有多少宝可梦\"\"\"\n",
    "    sql = f\"MATCH (t:Town)-[:location_pokemon]->(p:Pokémon) WHERE t.name = '{town}' RETURN COUNT(p) AS count;\"\n",
    "    return execute_query(sql, \"count\", f\"未找到城镇宝可梦数量: {town}\")\n",
    "\n",
    "@tool(args_schema=PersonQuery)\n",
    "def count_person_pokemons(person: str):\n",
    "    \"\"\"查询人物拥有多少宝可梦\"\"\"\n",
    "    sql = f\"MATCH (per:Person)-[:has_pokemon]->(p:Pokémon) WHERE per.name = '{person}' RETURN COUNT(p) AS count;\"\n",
    "    return execute_query(sql, \"count\", f\"未找到人物宝可梦数量: {person}\")\n",
    "\n",
    "@tool(args_schema=PokemonQuery)\n",
    "def count_pokemon_types(pokemon: str):\n",
    "    \"\"\"查询宝可梦有多少种属性\"\"\"\n",
    "    sql = f\"MATCH (p:Pokémon)-[:has_type]->(i:identity) WHERE p.name = '{pokemon}' RETURN COUNT(i) AS count;\"\n",
    "    return execute_query(sql, \"count\", f\"未找到宝可梦属性数量: {pokemon}\")\n",
    "\n",
    "# 属性相关查询\n",
    "@tool(args_schema=IdentityQuery)\n",
    "def get_pokemons_by_type(identity: str):\n",
    "    \"\"\"查询某个属性的宝可梦有哪些\"\"\"\n",
    "    sql = f\"MATCH (p:Pokémon)-[:has_type]->(i:identity) WHERE i.name = '{identity}' RETURN COLLECT(p.name) AS pokemons;\"\n",
    "    return execute_query(sql, \"pokemons\", f\"未找到该属性的宝可梦: {identity}\")\n",
    "\n",
    "# 实体匹配\n",
    "@tool(args_schema=Entity)\n",
    "def get_entity(question: str):\n",
    "    \"\"\"你必须调用这个工具，且只调用一次，对于用户的输入进行实体匹配，且后续查询的参数需在返回的实体中选择\"\"\"\n",
    "    return EnR.ner(question)\n",
    "\n",
    "\n",
    "def execute_query(sql: str, result_key: str, not_found_msg: str):\n",
    "    \"\"\"执行Neo4j查询并返回格式化结果\"\"\"\n",
    "    try:\n",
    "        result = g.run(sql).data()\n",
    "        if result:\n",
    "            # 处理单条结果和列表结果\n",
    "            if isinstance(result[0].get(result_key), list):\n",
    "                return {result_key: result[0][result_key]}\n",
    "            return {result_key: result[0][result_key]}\n",
    "        return {\"message\": not_found_msg}\n",
    "    except Exception as e:\n",
    "        return {\"error\": f\"查询失败: {str(e)}\", \"sql\": sql}\n",
    "\n",
    "    \n",
    "tools = [\n",
    "    get_pokemon_chinese_name,\n",
    "    get_pokemon_english_name,\n",
    "    get_pokemon_ability,\n",
    "    get_pokemon_hidden_ability,\n",
    "    get_pokemon_height,\n",
    "    get_pokemon_weight,\n",
    "    get_pokemon_evolution_level,\n",
    "    get_pokemon_attributes,\n",
    "    get_pokemon_evolution,\n",
    "    get_pokemon_types,\n",
    "    get_person_gender,\n",
    "    get_person_english_name,\n",
    "    get_person_japanese_name,\n",
    "    get_person_challengers,\n",
    "    get_person_partners,\n",
    "    get_person_enemies,\n",
    "    get_person_relatives,\n",
    "    get_town_region,\n",
    "    get_region_towns,\n",
    "    get_person_hometown,\n",
    "    get_region_people,\n",
    "    get_person_pokemons,\n",
    "    get_pokemon_owners,\n",
    "    get_town_pokemons,\n",
    "    get_pokemon_towns,\n",
    "    get_town_people,\n",
    "    get_person_town,\n",
    "    count_region_towns,\n",
    "    count_town_pokemons,\n",
    "    count_person_pokemons,\n",
    "    count_pokemon_types,\n",
    "    get_pokemons_by_type,\n",
    "    get_entity\n",
    "]"
   ]
  },
  {
   "cell_type": "code",
   "execution_count": 10,
   "metadata": {},
   "outputs": [],
   "source": [
    "kgsql_agent = create_react_agent(\n",
    "    llm, \n",
    "    tools=tools, \n",
    "    state_modifier=\"当用户询问关于宝可梦、人物、城镇、地区、属性的相关信息时，你将使用这些函数来查询neo4j数据库中的数据\"\n",
    ")"
   ]
  },
  {
   "cell_type": "code",
   "execution_count": 11,
   "metadata": {},
   "outputs": [
    {
     "name": "stdout",
     "output_type": "stream",
     "text": [
      "{'agent': {'messages': [AIMessage(content='首先调用get_entity工具提取问题中的实体，然后调用get_pokemon_owners工具获取拥有皮卡丘的角色，最后调用get_person_partners工具查询哪些是赤红的伙伴。', additional_kwargs={'tool_calls': [{'id': 'call_uibrngb7y08hoattpnxb7i2p', 'function': {'arguments': ' {\\n        \"question\": \"拥有皮卡丘的角色中，有哪些是赤红的伙伴？\"\\n    }\\n', 'name': 'get_entity'}, 'type': 'function'}], 'refusal': None}, response_metadata={'token_usage': {'completion_tokens': 103, 'prompt_tokens': 1496, 'total_tokens': 1599, 'completion_tokens_details': {'accepted_prediction_tokens': None, 'audio_tokens': None, 'reasoning_tokens': 0, 'rejected_prediction_tokens': None}, 'prompt_tokens_details': {'audio_tokens': None, 'cached_tokens': 0}}, 'model_name': 'doubao-1-5-pro-256k-250115', 'system_fingerprint': None, 'id': '021743926904788cc77ccac003d8d739d093d5b3037555b52c6b4', 'finish_reason': 'tool_calls', 'logprobs': None}, id='run-e7c940ef-c09c-4599-ac9d-e42ec5fad5ae-0', tool_calls=[{'name': 'get_entity', 'args': {'question': '拥有皮卡丘的角色中，有哪些是赤红的伙伴？'}, 'id': 'call_uibrngb7y08hoattpnxb7i2p', 'type': 'tool_call'}], usage_metadata={'input_tokens': 1496, 'output_tokens': 103, 'total_tokens': 1599, 'input_token_details': {'cache_read': 0}, 'output_token_details': {'reasoning': 0}})]}}\n",
      "{'tools': {'messages': [ToolMessage(content='{\"Pokémon\": [\"皮卡丘\"], \"person\": [\"赤红\"]}', name='get_entity', id='60ebe52d-55ad-4c14-8121-4566d6c14ba7', tool_call_id='call_uibrngb7y08hoattpnxb7i2p')]}}\n",
      "{'agent': {'messages': [AIMessage(content='', additional_kwargs={'tool_calls': [{'id': 'call_u2c1k4xckgs4hop8kotyx6hw', 'function': {'arguments': ' {\"pokemon\": \"皮卡丘\"}', 'name': 'get_pokemon_owners'}, 'type': 'function'}, {'id': 'call_6gmnpst7fu9bt7w81haj84bt', 'function': {'arguments': ' {\"person\": \"赤红\"}', 'name': 'get_person_partners'}, 'type': 'function'}], 'refusal': None}, response_metadata={'token_usage': {'completion_tokens': 52, 'prompt_tokens': 1608, 'total_tokens': 1660, 'completion_tokens_details': {'accepted_prediction_tokens': None, 'audio_tokens': None, 'reasoning_tokens': 0, 'rejected_prediction_tokens': None}, 'prompt_tokens_details': {'audio_tokens': None, 'cached_tokens': 0}}, 'model_name': 'doubao-1-5-pro-256k-250115', 'system_fingerprint': None, 'id': '021743926908092cc77ccac003d8d739d093d5b3037555b139f17', 'finish_reason': 'tool_calls', 'logprobs': None}, id='run-42e5dbfe-37ca-4aba-9f33-e8c2c31797a1-0', tool_calls=[{'name': 'get_pokemon_owners', 'args': {'pokemon': '皮卡丘'}, 'id': 'call_u2c1k4xckgs4hop8kotyx6hw', 'type': 'tool_call'}, {'name': 'get_person_partners', 'args': {'person': '赤红'}, 'id': 'call_6gmnpst7fu9bt7w81haj84bt', 'type': 'tool_call'}], usage_metadata={'input_tokens': 1608, 'output_tokens': 52, 'total_tokens': 1660, 'input_token_details': {'cache_read': 0}, 'output_token_details': {'reasoning': 0}})]}}\n",
      "{'tools': {'messages': [ToolMessage(content='{\"owners\": [\"阿弘\", \"铁旋\", \"镜之国的小智\", \"郝甜蒂\", \"赤红（THE ORIGIN）\", \"莎莉娜（动画）\", \"莉莉艾（动画）\", \"皮卡菈\", \"浩二（橘子群岛）\", \"敏川特\", \"弗兰克\", \"小霞（动画）\", \"瓦特（卡洛斯）\", \"小智\", \"安培\", \"可尔妮（动画）\", \"南波博士\", \"伏特（卡洛斯）\", \"亚由美\", \"哈乌\", \"小进\", \"多罗巴\", \"提耶鲁诺\", \"马志士\", \"大木博士\", \"赤红\"]}', name='get_pokemon_owners', id='21f00f18-ae12-48e1-a981-afb3ce06c23f', tool_call_id='call_u2c1k4xckgs4hop8kotyx6hw'), ToolMessage(content='{\"partners\": [\"大木博士\", \"修\", \"大吾\", \"钢铁\", \"叶子\", \"青绿\", \"莉莉艾\", \"琴音\", \"拉普\", \"夏伯\"]}', name='get_person_partners', id='f8a0c558-b22e-43a9-a1ae-fa7b69b7125b', tool_call_id='call_6gmnpst7fu9bt7w81haj84bt')]}}\n",
      "{'agent': {'messages': [AIMessage(content='拥有皮卡丘且是赤红伙伴的角色有：大木博士、莉莉艾 。', additional_kwargs={'refusal': None}, response_metadata={'token_usage': {'completion_tokens': 19, 'prompt_tokens': 1878, 'total_tokens': 1897, 'completion_tokens_details': {'accepted_prediction_tokens': None, 'audio_tokens': None, 'reasoning_tokens': 0, 'rejected_prediction_tokens': None}, 'prompt_tokens_details': {'audio_tokens': None, 'cached_tokens': 0}}, 'model_name': 'doubao-1-5-pro-256k-250115', 'system_fingerprint': None, 'id': '021743926909636cc77ccac003d8d739d093d5b3037555ba79e5e', 'finish_reason': 'stop', 'logprobs': None}, id='run-cd01a607-dfba-4b86-90c4-6bd797933020-0', usage_metadata={'input_tokens': 1878, 'output_tokens': 19, 'total_tokens': 1897, 'input_token_details': {'cache_read': 0}, 'output_token_details': {'reasoning': 0}})]}}\n"
     ]
    }
   ],
   "source": [
    "def print_stream(stream):\n",
    "    for sub_stream in stream:\n",
    "        print(sub_stream)  # 就是上面的示例中非流式直接调用的全部信息\n",
    "input_message = {\"messages\": [\"拥有皮卡丘的角色中，有哪些是赤红的伙伴？\"]}\n",
    "print_stream(kgsql_agent.stream(input_message, stream_mode=\"updates\"))"
   ]
  },
  {
   "cell_type": "code",
   "execution_count": 12,
   "metadata": {},
   "outputs": [],
   "source": [
    "def kgsql_node(state: AgentState):\n",
    "    result = kgsql_agent.invoke(state)\n",
    "    return {\n",
    "        \"messages\": [\n",
    "            HumanMessage(content=result[\"messages\"][-1].content, name=\"kg_sqler\")\n",
    "        ]\n",
    "    }\n"
   ]
  },
  {
   "cell_type": "code",
   "execution_count": 13,
   "metadata": {},
   "outputs": [],
   "source": [
    "# 配置参数\n",
    "graph_rag_config = {\n",
    "    \"artifacts_path\": \"F:\\\\bigmodel\\\\meet-Pok-mon\\\\4.KGqa\\\\Pokemon-KGQA\\\\RAG\\\\artifacts\",\n",
    "    \"llm_config\": {\n",
    "        \"model\": \"deepseek-ai/DeepSeek-V3\",\n",
    "        \"base_url\": \"http://139.224.116.116:3000/v1\",\n",
    "        \"api_key\": \"sk-36oMlDApF5Nlg0v23014A4B69e864000944151Cd75D82076\"\n",
    "    },\n",
    "    \"community_level\": 0\n",
    "}\n",
    "\n",
    "# 初始化GraphRAG系统\n",
    "graph_rag = GraphRAG(\n",
    "    artifacts_path=graph_rag_config[\"artifacts_path\"],\n",
    "    llm_config=graph_rag_config[\"llm_config\"],\n",
    "    community_level=graph_rag_config[\"community_level\"]\n",
    ")"
   ]
  },
  {
   "cell_type": "code",
   "execution_count": 14,
   "metadata": {},
   "outputs": [],
   "source": [
    "def graph_rager(state: AgentState):\n",
    "    messages = state[\"messages\"]\n",
    "\n",
    "    response = graph_rag.query(messages) \n",
    "    final_response = [HumanMessage(content=response.content, name=\"graph_rager\")]\n",
    "    return {\"messages\": final_response}"
   ]
  },
  {
   "cell_type": "code",
   "execution_count": 15,
   "metadata": {},
   "outputs": [
    {
     "name": "stdout",
     "output_type": "stream",
     "text": [
      "已覆盖现有集合: test\n",
      "创建新集合: test\n",
      "创建索引: {'index_type': 'IVF_FLAT', 'metric_type': 'COSINE', 'params': {'nlist': 16}}\n"
     ]
    }
   ],
   "source": [
    "searcher = WebSearcher()"
   ]
  },
  {
   "cell_type": "code",
   "execution_count": 16,
   "metadata": {},
   "outputs": [],
   "source": [
    "async def web_searcher(state: AgentState):\n",
    "    \"\"\"完全异步版本的搜索函数\"\"\"\n",
    "    messages = state[\"messages\"]\n",
    "   \n",
    "    # 直接使用await替代asyncio.run\n",
    "    response = await searcher.search_and_generate(messages[0].content)\n",
    "    return {\"messages\": [HumanMessage(content=response, name=\"web_searcher\")]}\n"
   ]
  },
  {
   "cell_type": "code",
   "execution_count": 17,
   "metadata": {},
   "outputs": [],
   "source": [
    "#构建代理节点\n",
    "members = [\"chat\",\"kg_sqler\",\"graph_rager\",\"web_searcher\"]\n",
    "options = members + [\"FINISH\"]"
   ]
  },
  {
   "cell_type": "code",
   "execution_count": 18,
   "metadata": {},
   "outputs": [],
   "source": [
    "# class Router(TypedDict):\n",
    "#     \"\"\"Worker to route to next. If no workers needed, route to FINISH\"\"\"\n",
    "\n",
    "#     next: Literal[*options] # type: ignore\n",
    "    \n",
    "# 创建提示模板\n",
    "prompt = ChatPromptTemplate.from_template(\"\"\"\n",
    "请严格按以下JSON格式回复，只包含next字段，值必须是'chat'或'kg_sqler'或'graph_rager'或'web_searcher'或'FINISH'：\n",
    "\n",
    "{{\n",
    "    \"next\": \"FINISH\"\n",
    "}}\n",
    "\n",
    "输入：{input}\n",
    "\"\"\")"
   ]
  },
  {
   "cell_type": "code",
   "execution_count": 19,
   "metadata": {},
   "outputs": [],
   "source": [
    "def supervisor(state: AgentState):\n",
    "    system_prompt = (\n",
    "        \"你被指定为对话监督员，负责协调以下工作模块的协作：{members}\\n\\n\"\n",
    "        \"各模块职能划分：\\n\"\n",
    "        \"- chat：自然语言交互模块\\n\"\n",
    "            \"  • 直接处理用户输入的自然语言响应\\n\"\n",
    "        \"- kg_sqler：宝可梦知识图谱查询模块\\n\"\n",
    "            \"  • 属性数据（种族值/进化链/特性）\\n\"\n",
    "            \"  • 角色关系（训练师/劲敌/团队）\\n\"\n",
    "            \"  • 地域情报（地点/道馆/栖息地）\\n\"\n",
    "        \"- graph_rager：宝可梦相关知识库\\n\"\n",
    "            \"  • 人物介绍（如人物事迹等）\\n\"\n",
    "            \"  • 社群发现（如道馆派系识别）\\n\"\n",
    "            \"  • 路径分析（角色关联路径追踪）\\n\"\n",
    "            \"  • 时序关联（赛事参与时间轴分析）\\n\\n\"\n",
    "        \"- web_searcher：实时联网搜索模块\\n\"\n",
    "            \"  • 当问题涉及最新资讯、新闻或时效性内容时使用\\n\"\n",
    "            \"  • 当其他知识库无法提供准确答案时使用\\n\"\n",
    "            \"  • 可获取官方公告、赛事结果等实时信息\\n\"\n",
    "            \"  • 能查询宝可梦相关社区讨论和玩家反馈\\n\"\n",
    "            \"  • 可验证其他模块提供信息的时效性和准确性\\n\\n\"\n",
    "        \"模块调用原则：\\n\"\n",
    "            \"1. 优先使用本地知识库(kg_sqler/graph_rager)回答已知的宝可梦知识\\n\"\n",
    "            \"2. 当问题涉及实时信息或本地知识不足时，调用web_searcher\\n\"\n",
    "            \"3. 请根据用户请求指定下一个执行模块。\"\n",
    "            \"4. 每个模块执行后将返回任务结果及状态。\\n\"\n",
    "        \"执行流程规范：\\n\"\n",
    "        \"1. chat模块最多能调用一次\\n\"\n",
    "        \"2. 可以链式调用多个模块（如先用kg_sqler查询，再用web_searcher验证）\\n\"\n",
    "        \"3. 你可以不断调用上述的模块，当某个模块的结果不足以回答用户的问题时（如未查询到相关结果），你可以继续调用其他模块，直到用户问题得到回答。\"\n",
    "        \"4. 当你任务完成时，才能返回FINISH终止符\"\n",
    ")\n",
    "\n",
    "    messages = [{\"role\": \"system\", \"content\": system_prompt},] + state[\"messages\"]\n",
    "\n",
    "    chain = prompt | llm | JsonOutputParser()\n",
    "    response = chain.invoke({\"input\": messages})\n",
    "\n",
    "    next_ = response[\"next\"]\n",
    "    \n",
    "    if next_ == \"FINISH\":\n",
    "        next_ = END\n",
    "    \n",
    "    return {\"next\": next_}"
   ]
  },
  {
   "cell_type": "code",
   "execution_count": 20,
   "metadata": {},
   "outputs": [
    {
     "data": {
      "text/plain": [
       "<langgraph.graph.state.StateGraph at 0x1d29308dd60>"
      ]
     },
     "execution_count": 20,
     "metadata": {},
     "output_type": "execute_result"
    }
   ],
   "source": [
    "builder = StateGraph(AgentState)\n",
    "\n",
    "builder.add_node(\"supervisor\", supervisor)\n",
    "builder.add_node(\"chat\", chat)\n",
    "builder.add_node(\"kg_sqler\", kgsql_node)\n",
    "builder.add_node(\"graph_rager\", graph_rager)\n",
    "builder.add_node(\n",
    "    \"web_searcher\",\n",
    "    RunnableLambda(web_searcher)  \n",
    ")"
   ]
  },
  {
   "cell_type": "code",
   "execution_count": 21,
   "metadata": {},
   "outputs": [],
   "source": [
    "for member in members:\n",
    "    # 我们希望我们的工人在完成工作后总是向主管“汇报”\n",
    "    builder.add_edge(member, \"supervisor\")"
   ]
  },
  {
   "cell_type": "code",
   "execution_count": 22,
   "metadata": {},
   "outputs": [],
   "source": [
    "#添加supervisor的条件边\n",
    "builder.add_conditional_edges(\"supervisor\", lambda state: state[\"next\"])\n",
    "# 添加开始和节点\n",
    "builder.add_edge(START, \"supervisor\")\n",
    "#增加检查点\n",
    "memory = MemorySaver()\n",
    "# 编译图\n",
    "graph = builder.compile(checkpointer=memory)"
   ]
  },
  {
   "cell_type": "code",
   "execution_count": 23,
   "metadata": {},
   "outputs": [
    {
     "data": {
      "image/png": "[encoded data removed]",
      "text/plain": [
       "<IPython.core.display.Image object>"
      ]
     },
     "metadata": {},
     "output_type": "display_data"
    }
   ],
   "source": [
    "from IPython.display import Image, display\n",
    "\n",
    "display(Image(graph.get_graph(xray=True).draw_mermaid_png()))"
   ]
  },
  {
   "cell_type": "code",
   "execution_count": 24,
   "metadata": {},
   "outputs": [
    {
     "name": "stderr",
     "output_type": "stream",
     "text": [
      "Reached max tokens for a community report call ...\n",
      "Reached max tokens for a community report call ...\n",
      "Reached max tokens for a community report call ...\n"
     ]
    },
    {
     "name": "stdout",
     "output_type": "stream",
     "text": [
      "{'supervisor': {'next': 'graph_rager'}}\n",
      "{'graph_rager': {'messages': [HumanMessage(content='# 恭平的宝可梦队伍分析\\n\\n## 核心战队成员\\n\\n恭平的宝可梦队伍主要由以下几只强大的精灵组成：\\n\\n- **呱呱泡蛙→呱头蛙**：这只水属性宝可梦在训练中表现出极大的毅力，最终进化为呱头蛙。它与木守宫保持着既合作又竞争的独特关系。\\n\\n- **妖火红狐**：作为队伍的核心成员之一，妖火红狐不仅拥有强大的火焰技能，还以智慧和保护能力著称。它经常负责保护恭平并照顾队伍中其他精灵。\\n\\n- **触手百合→摇篮百合**：这是一只有特殊背景的宝可梦，最初是研究所基因复制实验的产物，后来进化为摇篮百合，实力显著提升，成为恭平的重要战力。\\n\\n- **尼多王**：这只来自关东地区的地面/毒属性宝可梦以其强大的攻击性和侵略性闻名，在沙暴天气条件下表现尤为出色。\\n\\n## 团队协作关系\\n\\n这些宝可梦之间形成了紧密的协作关系：\\n\\n- 猛火猴和呱头蛙不仅在战斗中并肩作战，在战斗后也相互支持，展现出深厚的伙伴关系。\\n\\n- 在战斗联盟中，触手百合(摇篮百合)和尼多王经常协同作战，互相补充，共同构建沙暴战场环境，为整个队伍创造优势条件。\\n\\n## 辅助成员和特殊信息\\n\\n队伍中还包含其他重要成员：\\n\\n- **花洁夫人**：担任队伍的治疗者角色，擅长使用保护色和花瓣舞等技能，为队伍提供重要的后勤支援。\\n\\n此外，有信息表明电磁曾经赠予恭平巨沼怪超进化石，但具体是否已收服巨沼怪尚不明确。', additional_kwargs={}, response_metadata={}, name='graph_rager', id='ef628f2d-d6e8-4968-ba33-15c6f126be99')]}}\n",
      "{'supervisor': {'next': '__end__'}}\n"
     ]
    }
   ],
   "source": [
    "config = {\"configurable\": {\"thread_id\": \"0\"}}\n",
    "async def print_stream_async(stream):\n",
    "    async for chunk in stream:\n",
    "        print(chunk)\n",
    "\n",
    "# 使用 astream 替代 stream\n",
    "input_message = {\"messages\": [\"恭平有哪些宝可梦？\"]}\n",
    "stream = graph.astream(input_message, config, stream_mode=\"updates\")\n",
    "await print_stream_async(stream)"
   ]
  },
  {
   "cell_type": "code",
   "execution_count": null,
   "metadata": {},
   "outputs": [],
   "source": [
    "config = {\"configurable\": {\"thread_id\": \"3\"}}\n",
    "def print_stream(stream):\n",
    "    for sub_stream in stream:\n",
    "        print(sub_stream)  # 就是上面的示例中非流式直接调用的全部信息\n",
    "input_message = {\"messages\": [\"恭平有哪些宝可梦？\"]}\n",
    "print_stream(graph.stream(input_message, config, stream_mode=\"updates\"))\n",
    "\n",
    "# input_message = {\"messages\": [\"你好，请问我刚刚问你关于皮卡丘的什么了？\"]}\n",
    "# print_stream(graph.stream(input_message, config, stream_mode=\"updates\"))"
   ]
  },
  {
   "cell_type": "code",
   "execution_count": null,
   "metadata": {},
   "outputs": [],
   "source": [
    "for chunk in graph.stream({\"messages\": \"你好，你是谁？\"}, stream_mode=\"values\"):\n",
    "    chunk[\"messages\"][-1].pretty_print()"
   ]
  }
 ],
 "metadata": {
  "kernelspec": {
   "display_name": "pokemon",
   "language": "python",
   "name": "python3"
  },
  "language_info": {
   "codemirror_mode": {
    "name": "ipython",
    "version": 3
   },
   "file_extension": ".py",
   "mimetype": "text/x-python",
   "name": "python",
   "nbconvert_exporter": "python",
   "pygments_lexer": "ipython3",
   "version": "3.12.9"
  }
 },
 "nbformat": 4,
 "nbformat_minor": 2
}
