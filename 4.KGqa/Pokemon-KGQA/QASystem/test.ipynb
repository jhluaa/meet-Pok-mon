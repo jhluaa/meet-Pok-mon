{
 "cells": [
  {
   "cell_type": "code",
   "execution_count": 1,
   "metadata": {},
   "outputs": [
    {
     "name": "stderr",
     "output_type": "stream",
     "text": [
      "f:\\Anaconda\\envs\\pokemon\\Lib\\site-packages\\tqdm\\auto.py:21: TqdmWarning: IProgress not found. Please update jupyter and ipywidgets. See https://ipywidgets.readthedocs.io/en/stable/user_install.html\n",
      "  from .autonotebook import tqdm as notebook_tqdm\n"
     ]
    }
   ],
   "source": [
    "import getpass\n",
    "import os\n",
    "import sys\n",
    "import asyncio\n",
    "from langchain_openai import ChatOpenAI\n",
    "from langchain_ollama import ChatOllama\n",
    "from langgraph.graph import StateGraph, MessagesState, START, END\n",
    "from langchain_core.messages import AnyMessage, SystemMessage, HumanMessage, ToolMessage, AIMessage\n",
    "from typing import Literal\n",
    "from typing_extensions import TypedDict\n",
    "from pydantic import BaseModel, Field\n",
    "from langchain_core.prompts import ChatPromptTemplate\n",
    "from langchain_core.output_parsers import JsonOutputParser\n",
    "from langchain_core.runnables import RunnablePassthrough, RunnableLambda\n",
    "from py2neo import Graph\n",
    "from langchain_core.tools import tool\n",
    "from langgraph.prebuilt import create_react_agent\n",
    "from langchain_core.prompts import PromptTemplate\n",
    "from langgraph.checkpoint.memory import MemorySaver\n",
    "\n",
    "from pathlib import Path\n",
    "project_root = Path(r\"F:\\bigmodel\\meet-Pok-mon\\4.KGqa\\Pokemon-KGQA\").resolve()\n",
    "sys.path.insert(0, str(project_root))\n",
    "from NER.ner_model import *\n",
    "from KGsql.KGsql import KGQueryAgent\n",
    "from RAG.langchaingraph.query import GraphRAG\n",
    "from websearch.websearcher import WebSearcher"
   ]
  },
  {
   "cell_type": "code",
   "execution_count": 2,
   "metadata": {},
   "outputs": [],
   "source": [
    "# llm = ChatOllama(\n",
    "#     base_url = \"127.0.0.1:11434\",  # 注意：这里需要替换成自己本地启动的endpoint\n",
    "#     model=\"qwen2.5:7b\",\n",
    "# )\n",
    "llm = ChatOpenAI(\n",
    "    model=\"Doubao-pro-256k-1.5\",  # 模型名称（需与后端匹配）\n",
    "    base_url=\"http://139.224.116.116:3000/v1\",  # 本地或远程 API 地址\n",
    "    api_key=\"sk-36oMlDApF5Nlg0v23014A4B69e864000944151Cd75D82076\"  # 如果无需鉴权，可留空\n",
    ")"
   ]
  },
  {
   "cell_type": "code",
   "execution_count": 3,
   "metadata": {},
   "outputs": [],
   "source": [
    "g = Graph(\"bolt://localhost:7687\", auth=(\"neo4j\", \"woshishamo630\"))"
   ]
  },
  {
   "cell_type": "code",
   "execution_count": 4,
   "metadata": {},
   "outputs": [],
   "source": [
    "class AgentState(MessagesState):\n",
    "    next: str"
   ]
  },
  {
   "cell_type": "code",
   "execution_count": 5,
   "metadata": {},
   "outputs": [],
   "source": [
    "def chat(state: AgentState):\n",
    "    messages = state[\"messages\"]\n",
    "    model_response = llm.invoke(messages)\n",
    "    # final_response = [HumanMessage(content=model_response.content, name=\"chatbot\")]\n",
    "    return {\"messages\": model_response}"
   ]
  },
  {
   "cell_type": "code",
   "execution_count": 6,
   "metadata": {},
   "outputs": [
    {
     "name": "stdout",
     "output_type": "stream",
     "text": [
      "加载已有模型\n",
      "模型初始化完成 ......\n"
     ]
    }
   ],
   "source": [
    "kgsql_agent = KGQueryAgent()"
   ]
  },
  {
   "cell_type": "code",
   "execution_count": 8,
   "metadata": {},
   "outputs": [
    {
     "name": "stdout",
     "output_type": "stream",
     "text": [
      "{'agent': {'messages': [AIMessage(content='首先调用 get_entity 函数，提取问题中的实体。接着，根据提取的实体皮卡丘，调用 get_pokemon_owners 函数，得到拥有皮卡丘的角色。然后，针对每个拥有皮卡丘的角色，调用 get_person_partners 函数，查看是否为赤红的伙伴。', additional_kwargs={'tool_calls': [{'id': 'call_rbmjabnii8nxi56h1qcatg9e', 'function': {'arguments': ' {\\n        \"question\": \"拥有皮卡丘的角色中，有哪些是赤红的伙伴？\"\\n    }\\n', 'name': 'get_entity'}, 'type': 'function'}], 'refusal': None}, response_metadata={'token_usage': {'completion_tokens': 126, 'prompt_tokens': 1496, 'total_tokens': 1622, 'completion_tokens_details': {'accepted_prediction_tokens': None, 'audio_tokens': None, 'reasoning_tokens': 0, 'rejected_prediction_tokens': None}, 'prompt_tokens_details': {'audio_tokens': None, 'cached_tokens': 0}}, 'model_name': 'doubao-1-5-pro-256k-250115', 'system_fingerprint': None, 'id': '02174393040956927e9140493fc1cd076b4fe1b883ff101e91f06', 'finish_reason': 'tool_calls', 'logprobs': None}, id='run-20d1fa40-936b-42d9-be8e-a15bbd342d8e-0', tool_calls=[{'name': 'get_entity', 'args': {'question': '拥有皮卡丘的角色中，有哪些是赤红的伙伴？'}, 'id': 'call_rbmjabnii8nxi56h1qcatg9e', 'type': 'tool_call'}], usage_metadata={'input_tokens': 1496, 'output_tokens': 126, 'total_tokens': 1622, 'input_token_details': {'cache_read': 0}, 'output_token_details': {'reasoning': 0}})]}}\n",
      "{'tools': {'messages': [ToolMessage(content='{\"Pokémon\": [\"皮卡丘\"], \"person\": [\"赤红\"]}', name='get_entity', id='3ee70d04-4e44-4b91-9340-9328b35248d6', tool_call_id='call_rbmjabnii8nxi56h1qcatg9e')]}}\n",
      "{'agent': {'messages': [AIMessage(content='', additional_kwargs={'tool_calls': [{'id': 'call_loxxs19y7pm4bw5key7mlgmy', 'function': {'arguments': ' {\"pokemon\": \"皮卡丘\"}', 'name': 'get_pokemon_owners'}, 'type': 'function'}, {'id': 'call_5k0m60aso8h66zjubtyavht8', 'function': {'arguments': ' {\"person\": \"赤红\"}', 'name': 'get_person_partners'}, 'type': 'function'}], 'refusal': None}, response_metadata={'token_usage': {'completion_tokens': 52, 'prompt_tokens': 1631, 'total_tokens': 1683, 'completion_tokens_details': {'accepted_prediction_tokens': None, 'audio_tokens': None, 'reasoning_tokens': 0, 'rejected_prediction_tokens': None}, 'prompt_tokens_details': {'audio_tokens': None, 'cached_tokens': 0}}, 'model_name': 'doubao-1-5-pro-256k-250115', 'system_fingerprint': None, 'id': '02174393041294727e9140493fc1cd076b4fe1b883ff1015f8d47', 'finish_reason': 'tool_calls', 'logprobs': None}, id='run-024cf114-4e1d-459f-bc66-3b0f7ac4d59c-0', tool_calls=[{'name': 'get_pokemon_owners', 'args': {'pokemon': '皮卡丘'}, 'id': 'call_loxxs19y7pm4bw5key7mlgmy', 'type': 'tool_call'}, {'name': 'get_person_partners', 'args': {'person': '赤红'}, 'id': 'call_5k0m60aso8h66zjubtyavht8', 'type': 'tool_call'}], usage_metadata={'input_tokens': 1631, 'output_tokens': 52, 'total_tokens': 1683, 'input_token_details': {'cache_read': 0}, 'output_token_details': {'reasoning': 0}})]}}\n",
      "{'tools': {'messages': [ToolMessage(content='{\"owners\": [\"阿弘\", \"铁旋\", \"镜之国的小智\", \"郝甜蒂\", \"赤红（THE ORIGIN）\", \"莎莉娜（动画）\", \"莉莉艾（动画）\", \"皮卡菈\", \"浩二（橘子群岛）\", \"敏川特\", \"弗兰克\", \"小霞（动画）\", \"瓦特（卡洛斯）\", \"小智\", \"安培\", \"可尔妮（动画）\", \"南波博士\", \"伏特（卡洛斯）\", \"亚由美\", \"哈乌\", \"小进\", \"多罗巴\", \"提耶鲁诺\", \"马志士\", \"大木博士\", \"赤红\"]}', name='get_pokemon_owners', id='73bddef9-efbc-4f52-a7b1-f8c8545c0248', tool_call_id='call_loxxs19y7pm4bw5key7mlgmy'), ToolMessage(content='{\"partners\": [\"大木博士\", \"修\", \"大吾\", \"钢铁\", \"叶子\", \"青绿\", \"莉莉艾\", \"琴音\", \"拉普\", \"夏伯\"]}', name='get_person_partners', id='2164e0cd-b2e3-40d0-8c46-345153a64a62', tool_call_id='call_5k0m60aso8h66zjubtyavht8')]}}\n",
      "{'agent': {'messages': [AIMessage(content='拥有皮卡丘且是赤红伙伴的角色有：大木博士、莉莉艾。', additional_kwargs={'refusal': None}, response_metadata={'token_usage': {'completion_tokens': 18, 'prompt_tokens': 1901, 'total_tokens': 1919, 'completion_tokens_details': {'accepted_prediction_tokens': None, 'audio_tokens': None, 'reasoning_tokens': 0, 'rejected_prediction_tokens': None}, 'prompt_tokens_details': {'audio_tokens': None, 'cached_tokens': 0}}, 'model_name': 'doubao-1-5-pro-256k-250115', 'system_fingerprint': None, 'id': '02174393041494727e9140493fc1cd076b4fe1b883ff1011a3731', 'finish_reason': 'stop', 'logprobs': None}, id='run-9be14d62-3058-4d6f-a2bd-a932e9345128-0', usage_metadata={'input_tokens': 1901, 'output_tokens': 18, 'total_tokens': 1919, 'input_token_details': {'cache_read': 0}, 'output_token_details': {'reasoning': 0}})]}}\n"
     ]
    }
   ],
   "source": [
    "def print_stream(stream):\n",
    "    for sub_stream in stream:\n",
    "        print(sub_stream)  # 就是上面的示例中非流式直接调用的全部信息\n",
    "input_message = {\"messages\": [\"拥有皮卡丘的角色中，有哪些是赤红的伙伴？\"]}\n",
    "print_stream(kgsql_agent.agent.stream(input_message, stream_mode=\"updates\"))"
   ]
  },
  {
   "cell_type": "code",
   "execution_count": 7,
   "metadata": {},
   "outputs": [],
   "source": [
    "def kgsql_node(state: AgentState):\n",
    "    result = kgsql_agent.agent.invoke(state)\n",
    "    return {\n",
    "        \"messages\": [\n",
    "            HumanMessage(content=result[\"messages\"][-1].content, name=\"kg_sqler\")\n",
    "        ]\n",
    "    }\n"
   ]
  },
  {
   "cell_type": "code",
   "execution_count": 8,
   "metadata": {},
   "outputs": [],
   "source": [
    "# 配置参数\n",
    "graph_rag_config = {\n",
    "    \"artifacts_path\": \"F:\\\\bigmodel\\\\meet-Pok-mon\\\\4.KGqa\\\\Pokemon-KGQA\\\\RAG\\\\artifacts\",\n",
    "    \"llm_config\": {\n",
    "        \"model\": \"deepseek-ai/DeepSeek-V3\",\n",
    "        \"base_url\": \"http://139.224.116.116:3000/v1\",\n",
    "        \"api_key\": \"sk-36oMlDApF5Nlg0v23014A4B69e864000944151Cd75D82076\"\n",
    "    },\n",
    "    \"community_level\": 0\n",
    "}\n",
    "\n",
    "# 初始化GraphRAG系统\n",
    "graph_rag = GraphRAG(\n",
    "    artifacts_path=graph_rag_config[\"artifacts_path\"],\n",
    "    llm_config=graph_rag_config[\"llm_config\"],\n",
    "    community_level=graph_rag_config[\"community_level\"]\n",
    ")"
   ]
  },
  {
   "cell_type": "code",
   "execution_count": 9,
   "metadata": {},
   "outputs": [],
   "source": [
    "def graph_rager(state: AgentState):\n",
    "    messages = state[\"messages\"]\n",
    "\n",
    "    response = graph_rag.query(messages) \n",
    "    final_response = [HumanMessage(content=response.content, name=\"graph_rager\")]\n",
    "    return {\"messages\": final_response}"
   ]
  },
  {
   "cell_type": "code",
   "execution_count": 10,
   "metadata": {},
   "outputs": [
    {
     "name": "stdout",
     "output_type": "stream",
     "text": [
      "已覆盖现有集合: test\n",
      "创建新集合: test\n",
      "创建索引: {'index_type': 'IVF_FLAT', 'metric_type': 'COSINE', 'params': {'nlist': 16}}\n"
     ]
    }
   ],
   "source": [
    "searcher = WebSearcher()"
   ]
  },
  {
   "cell_type": "code",
   "execution_count": 11,
   "metadata": {},
   "outputs": [],
   "source": [
    "async def web_searcher(state: AgentState):\n",
    "    \"\"\"完全异步版本的搜索函数\"\"\"\n",
    "    messages = state[\"messages\"]\n",
    "   \n",
    "    # 直接使用await替代asyncio.run\n",
    "    response = await searcher.search_and_generate(messages[0].content)\n",
    "    return {\"messages\": [HumanMessage(content=response, name=\"web_searcher\")]}\n"
   ]
  },
  {
   "cell_type": "code",
   "execution_count": 12,
   "metadata": {},
   "outputs": [],
   "source": [
    "#构建代理节点\n",
    "members = [\"chat\",\"kg_sqler\",\"graph_rager\",\"web_searcher\"]\n",
    "options = members + [\"FINISH\"]"
   ]
  },
  {
   "cell_type": "code",
   "execution_count": 13,
   "metadata": {},
   "outputs": [],
   "source": [
    "# class Router(TypedDict):\n",
    "#     \"\"\"Worker to route to next. If no workers needed, route to FINISH\"\"\"\n",
    "\n",
    "#     next: Literal[*options] # type: ignore\n",
    "    \n",
    "# 创建提示模板\n",
    "prompt = ChatPromptTemplate.from_template(\"\"\"\n",
    "请严格按以下JSON格式回复，只包含next字段，值必须是'chat'或'kg_sqler'或'graph_rager'或'web_searcher'或'FINISH'：\n",
    "\n",
    "{{\n",
    "    \"next\": \"FINISH\"\n",
    "}}\n",
    "\n",
    "输入：{input}\n",
    "\"\"\")"
   ]
  },
  {
   "cell_type": "code",
   "execution_count": 14,
   "metadata": {},
   "outputs": [],
   "source": [
    "def supervisor(state: AgentState):\n",
    "    system_prompt = (\n",
    "        \"你被指定为对话监督员，负责协调以下工作模块的协作：{members}\\n\\n\"\n",
    "        \"各模块职能划分：\\n\"\n",
    "        \"- chat：自然语言交互模块\\n\"\n",
    "            \"  • 直接处理用户输入的自然语言响应\\n\"\n",
    "        \"- kg_sqler：宝可梦知识图谱查询模块\\n\"\n",
    "            \"  • 属性数据（种族值/进化链/特性）\\n\"\n",
    "            \"  • 角色关系（训练师/劲敌/团队）\\n\"\n",
    "            \"  • 地域情报（地点/道馆/栖息地）\\n\"\n",
    "        \"- graph_rager：宝可梦相关知识库\\n\"\n",
    "            \"  • 人物介绍（如人物事迹等）\\n\"\n",
    "            \"  • 社群发现（如道馆派系识别）\\n\"\n",
    "            \"  • 路径分析（角色关联路径追踪）\\n\"\n",
    "            \"  • 时序关联（赛事参与时间轴分析）\\n\\n\"\n",
    "        \"- web_searcher：实时联网搜索模块\\n\"\n",
    "            \"  • 当问题涉及最新资讯、新闻或时效性内容时使用\\n\"\n",
    "            \"  • 当其他知识库无法提供准确答案时使用\\n\"\n",
    "            \"  • 可获取官方公告、赛事结果等实时信息\\n\"\n",
    "            \"  • 能查询宝可梦相关社区讨论和玩家反馈\\n\"\n",
    "            \"  • 可验证其他模块提供信息的时效性和准确性\\n\\n\"\n",
    "        \"模块调用原则：\\n\"\n",
    "            \"1. 优先使用本地知识库(kg_sqler/graph_rager)回答已知的宝可梦知识\\n\"\n",
    "            \"2. 当问题涉及实时信息或本地知识不足时，调用web_searcher\\n\"\n",
    "            \"3. 请根据用户请求指定下一个执行模块。\"\n",
    "            \"4. 每个模块执行后将返回任务结果及状态。\\n\"\n",
    "        \"执行流程规范：\\n\"\n",
    "        \"1. chat模块最多能调用一次\\n\"\n",
    "        \"2. 可以链式调用多个模块（如先用kg_sqler查询，再用web_searcher验证）\\n\"\n",
    "        \"3. 你可以不断调用上述的模块，当某个模块的结果不足以回答用户的问题时（如未查询到相关结果），你可以继续调用其他模块，直到用户问题得到回答。\"\n",
    "        \"4. 当你任务完成时，才能返回FINISH终止符\"\n",
    ")\n",
    "\n",
    "    messages = [{\"role\": \"system\", \"content\": system_prompt},] + state[\"messages\"]\n",
    "\n",
    "    chain = prompt | llm | JsonOutputParser()\n",
    "    response = chain.invoke({\"input\": messages})\n",
    "\n",
    "    next_ = response[\"next\"]\n",
    "    \n",
    "    if next_ == \"FINISH\":\n",
    "        next_ = END\n",
    "    \n",
    "    return {\"next\": next_}"
   ]
  },
  {
   "cell_type": "code",
   "execution_count": 15,
   "metadata": {},
   "outputs": [
    {
     "data": {
      "text/plain": [
       "<langgraph.graph.state.StateGraph at 0x1c5f05df7d0>"
      ]
     },
     "execution_count": 15,
     "metadata": {},
     "output_type": "execute_result"
    }
   ],
   "source": [
    "builder = StateGraph(AgentState)\n",
    "\n",
    "builder.add_node(\"supervisor\", supervisor)\n",
    "builder.add_node(\"chat\", chat)\n",
    "builder.add_node(\"kg_sqler\", kgsql_node)\n",
    "builder.add_node(\"graph_rager\", graph_rager)\n",
    "builder.add_node(\n",
    "    \"web_searcher\",\n",
    "    RunnableLambda(web_searcher)  \n",
    ")"
   ]
  },
  {
   "cell_type": "code",
   "execution_count": 16,
   "metadata": {},
   "outputs": [],
   "source": [
    "for member in members:\n",
    "    # 我们希望我们的工人在完成工作后总是向主管“汇报”\n",
    "    builder.add_edge(member, \"supervisor\")"
   ]
  },
  {
   "cell_type": "code",
   "execution_count": 17,
   "metadata": {},
   "outputs": [],
   "source": [
    "#添加supervisor的条件边\n",
    "builder.add_conditional_edges(\"supervisor\", lambda state: state[\"next\"])\n",
    "# 添加开始和节点\n",
    "builder.add_edge(START, \"supervisor\")\n",
    "#增加检查点\n",
    "memory = MemorySaver()\n",
    "# 编译图\n",
    "graph = builder.compile(checkpointer=memory)"
   ]
  },
  {
   "cell_type": "code",
   "execution_count": null,
   "metadata": {},
   "outputs": [],
   "source": [
    "from IPython.display import Image, display\n",
    "\n",
    "display(Image(graph.get_graph(xray=True).draw_mermaid_png()))"
   ]
  },
  {
   "cell_type": "code",
   "execution_count": 27,
   "metadata": {},
   "outputs": [
    {
     "name": "stdout",
     "output_type": "stream",
     "text": [
      "皮卡丘的属性是电属性。\n"
     ]
    }
   ],
   "source": [
    "config = {\"configurable\": {\"thread_id\": \"9\"}}\n",
    "async def print_stream_async(stream):\n",
    "    chunks = []\n",
    "    async for chunk in stream:\n",
    "        chunks.append(chunk[\"messages\"][-1])\n",
    "    print(chunks[-1].content)\n",
    "\n",
    "# 使用 astream 替代 stream\n",
    "input_message = {\"messages\": [\"皮卡丘是什么属性？\"]}\n",
    "stream = graph.astream(input_message, config, stream_mode=\"values\")\n",
    "await print_stream_async(stream)"
   ]
  },
  {
   "cell_type": "code",
   "execution_count": null,
   "metadata": {},
   "outputs": [],
   "source": [
    "config = {\"configurable\": {\"thread_id\": \"3\"}}\n",
    "def print_stream(stream):\n",
    "    for sub_stream in stream:\n",
    "        print(sub_stream)  # 就是上面的示例中非流式直接调用的全部信息\n",
    "input_message = {\"messages\": [\"恭平有哪些宝可梦？\"]}\n",
    "print_stream(graph.stream(input_message, config, stream_mode=\"updates\"))\n",
    "\n",
    "# input_message = {\"messages\": [\"你好，请问我刚刚问你关于皮卡丘的什么了？\"]}\n",
    "# print_stream(graph.stream(input_message, config, stream_mode=\"updates\"))"
   ]
  },
  {
   "cell_type": "code",
   "execution_count": 19,
   "metadata": {},
   "outputs": [
    {
     "name": "stdout",
     "output_type": "stream",
     "text": [
      "================================\u001b[1m Human Message \u001b[0m=================================\n",
      "\n",
      "你好，你是谁？\n",
      "================================\u001b[1m Human Message \u001b[0m=================================\n",
      "\n",
      "你好，你是谁？\n",
      "==================================\u001b[1m Ai Message \u001b[0m==================================\n",
      "\n",
      "我是豆包呀，能陪你畅快聊天，解答各类问题，不管是生活知识、学习疑惑，还是娱乐八卦等，都能为你提供帮助。\n",
      "==================================\u001b[1m Ai Message \u001b[0m==================================\n",
      "\n",
      "我是豆包呀，能陪你畅快聊天，解答各类问题，不管是生活知识、学习疑惑，还是娱乐八卦等，都能为你提供帮助。\n",
      "==================================\u001b[1m Ai Message \u001b[0m==================================\n",
      "==================================\u001b[1m Ai Message \u001b[0m==================================\n",
      "==================================\u001b[1m Ai Message \u001b[0m==================================\n",
      "\n",
      "我是豆包，旨在随时和你交流探讨，帮你解决知识疑问、陪你畅谈各种话题，你有什么想聊的，都能告诉我。\n",
      "==================================\u001b[1m Ai Message \u001b[0m==================================\n",
      "\n",
      "我是豆包，旨在随时和你交流探讨，帮你解决知识疑问、陪你畅谈各种话题，你有什么想聊的，都能告诉我。\n",
      "==================================\u001b[1m Ai Message \u001b[0m==================================\n",
      "==================================\u001b[1m Ai Message \u001b[0m==================================\n",
      "==================================\u001b[1m Ai Message \u001b[0m==================================\n",
      "\n",
      "我是豆包，是字节跳动基于云雀模型开发的人工智能，能和你畅聊各种话题，为你答疑解惑，分享有趣观点，你今天有什么想聊的，都可以开口。\n",
      "==================================\u001b[1m Ai Message \u001b[0m==================================\n",
      "\n",
      "我是豆包，是字节跳动基于云雀模型开发的人工智能，能和你畅聊各种话题，为你答疑解惑，分享有趣观点，你今天有什么想聊的，都可以开口。\n"
     ]
    }
   ],
   "source": [
    "for chunk in graph.stream({\"messages\": \"你好，你是谁？\"}, config,stream_mode=\"values\"):\n",
    "    chunk[\"messages\"][-1].pretty_print()"
   ]
  }
 ],
 "metadata": {
  "kernelspec": {
   "display_name": "pokemon",
   "language": "python",
   "name": "python3"
  },
  "language_info": {
   "codemirror_mode": {
    "name": "ipython",
    "version": 3
   },
   "file_extension": ".py",
   "mimetype": "text/x-python",
   "name": "python",
   "nbconvert_exporter": "python",
   "pygments_lexer": "ipython3",
   "version": "3.12.9"
  }
 },
 "nbformat": 4,
 "nbformat_minor": 2
}
