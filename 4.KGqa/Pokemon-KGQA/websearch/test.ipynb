{
 "cells": [
  {
   "cell_type": "code",
   "execution_count": null,
   "metadata": {},
   "outputs": [],
   "source": [
    "import requests\n",
    "import json\n",
    "import aiohttp\n",
    "import hashlib\n",
    "from pprint import pprint\n",
    "from utils import *\n",
    "from milvus_service import MilvusService"
   ]
  },
  {
   "cell_type": "code",
   "execution_count": null,
   "metadata": {},
   "outputs": [],
   "source": [
    "prompt_search = ('<指令>根据你实时联网检索到的信息，更加专业的来回答用户提出的问题。如果无法从中得到答案，请说 “根据检索到的信息无法回答该问题”，'\n",
    "                '同时，如果存在历史对话信息，请结合历史对话信息提供完整的回复，'\n",
    "                '不允许在答案中添加编造成分，答案请使用中文。 </指令>\\n'\n",
    "                '<联网检索到的信息>{{ context }}</联网检索到的信息>\\n'\n",
    "                '<问题>{{ question }}</问题>\\n')\n",
    "\n",
    "prompt_empty = ('请你回答我的问题:\\n'\n",
    "                '{{ question }}\\n\\n')"
   ]
  },
  {
   "cell_type": "code",
   "execution_count": null,
   "metadata": {},
   "outputs": [],
   "source": [
    "query = \"皮卡丘的招式有哪些？\""
   ]
  },
  {
   "cell_type": "code",
   "execution_count": null,
   "metadata": {},
   "outputs": [],
   "source": [
    "# 根据用户输入的问题，调用SerperAPI执行联网检索，返回search_top_k个相关的链接\n",
    "search_results = await search(query,10)\n",
    "\n",
    "# 对检索到的网址链接，通过计算 query 和 每个网站的简介，进一步做 rerank，提取最相关的一个网址\n",
    "rerank_results = reranking(query, search_results,8)\n",
    "\n",
    "# 对经过rerank 的 网站，提取主体内容。\n",
    "detail_results = await fetch_details(rerank_results)"
   ]
  },
  {
   "cell_type": "code",
   "execution_count": null,
   "metadata": {},
   "outputs": [],
   "source": [
    "rerank_results"
   ]
  },
  {
   "cell_type": "code",
   "execution_count": null,
   "metadata": {},
   "outputs": [],
   "source": [
    "context = \" \"\n",
    "if detail_results == []:\n",
    "    prompt_template = prompt_empty\n",
    "else:\n",
    "    # 提取向量数据库的实例,联网检索，统一进入同一个默认向量库中检索\n",
    "    milvusService = MilvusService(collection_name=\"test\",\n",
    "        overwrite=True,\n",
    "        embedding_model=\"bge-m3-pro\")\n",
    "\n",
    "    # 添加文档到 milvus 服务\n",
    "    milvusService.insert_documents(detail_results)\n",
    "    search_retriever = milvusService.similarity_search(query, k=3,rerank=True)\n",
    "\n",
    "    context = \"\\n\".join([doc.page_content for doc in search_retriever])\n",
    "\n",
    "    if len(search_retriever) == 0:  # 如果没有找到相关文档，使用empty模板\n",
    "        prompt_template = prompt_empty\n",
    "    else:\n",
    "        prompt_template = prompt_search"
   ]
  },
  {
   "cell_type": "code",
   "execution_count": null,
   "metadata": {},
   "outputs": [],
   "source": [
    "search_retriever"
   ]
  },
  {
   "cell_type": "code",
   "execution_count": null,
   "metadata": {},
   "outputs": [],
   "source": [
    "context"
   ]
  },
  {
   "cell_type": "code",
   "execution_count": null,
   "metadata": {},
   "outputs": [],
   "source": [
    "rerank_snippets = [doc.metadata['snippet'] for doc in rerank_results if 'snippet' in doc.metadata]"
   ]
  },
  {
   "cell_type": "code",
   "execution_count": null,
   "metadata": {},
   "outputs": [],
   "source": [
    "search_contents = [doc.page_content for doc in search_retriever]"
   ]
  },
  {
   "cell_type": "code",
   "execution_count": null,
   "metadata": {},
   "outputs": [],
   "source": [
    "# 合并并去重\n",
    "combined_contents = list(set(rerank_snippets + search_contents))"
   ]
  },
  {
   "cell_type": "code",
   "execution_count": null,
   "metadata": {},
   "outputs": [],
   "source": [
    "combined_contents"
   ]
  },
  {
   "cell_type": "code",
   "execution_count": null,
   "metadata": {},
   "outputs": [],
   "source": [
    "# 拼接成最终context\n",
    "context = \"\\n\\n\".join(combined_contents)"
   ]
  }
 ],
 "metadata": {
  "kernelspec": {
   "display_name": "pokemon",
   "language": "python",
   "name": "python3"
  },
  "language_info": {
   "codemirror_mode": {
    "name": "ipython",
    "version": 3
   },
   "file_extension": ".py",
   "mimetype": "text/x-python",
   "name": "python",
   "nbconvert_exporter": "python",
   "pygments_lexer": "ipython3",
   "version": "3.12.9"
  }
 },
 "nbformat": 4,
 "nbformat_minor": 2
}
